{
 "cells": [
  {
   "cell_type": "markdown",
   "metadata": {},
   "source": [
    "# Mnist Classification"
   ]
  },
  {
   "cell_type": "code",
   "execution_count": 1,
   "metadata": {
    "execution": {
     "iopub.execute_input": "2023-09-17T02:59:21.997159Z",
     "iopub.status.busy": "2023-09-17T02:59:21.996772Z",
     "iopub.status.idle": "2023-09-17T02:59:32.648107Z",
     "shell.execute_reply": "2023-09-17T02:59:32.646691Z",
     "shell.execute_reply.started": "2023-09-17T02:59:21.997128Z"
    }
   },
   "outputs": [
    {
     "name": "stderr",
     "output_type": "stream",
     "text": [
      "2023-10-04 10:51:26.687949: I tensorflow/tsl/cuda/cudart_stub.cc:28] Could not find cuda drivers on your machine, GPU will not be used.\n",
      "2023-10-04 10:51:26.736191: I tensorflow/tsl/cuda/cudart_stub.cc:28] Could not find cuda drivers on your machine, GPU will not be used.\n",
      "2023-10-04 10:51:26.737028: I tensorflow/core/platform/cpu_feature_guard.cc:182] This TensorFlow binary is optimized to use available CPU instructions in performance-critical operations.\n",
      "To enable the following instructions: AVX2 FMA, in other operations, rebuild TensorFlow with the appropriate compiler flags.\n",
      "2023-10-04 10:51:27.575748: W tensorflow/compiler/tf2tensorrt/utils/py_utils.cc:38] TF-TRT Warning: Could not find TensorRT\n"
     ]
    }
   ],
   "source": [
    "# Import necessary libraries\n",
    "from keras.models import Sequential\n",
    "from keras.datasets import mnist\n",
    "from keras.utils import to_categorical\n",
    "from keras.layers import Dense\n",
    "import matplotlib.pyplot as plt\n",
    "import numpy as np\n",
    "from sklearn.metrics import confusion_matrix, classification_report"
   ]
  },
  {
   "cell_type": "code",
   "execution_count": 2,
   "metadata": {
    "execution": {
     "iopub.execute_input": "2023-09-17T02:59:32.651499Z",
     "iopub.status.busy": "2023-09-17T02:59:32.650740Z",
     "iopub.status.idle": "2023-09-17T02:59:34.028009Z",
     "shell.execute_reply": "2023-09-17T02:59:34.026775Z",
     "shell.execute_reply.started": "2023-09-17T02:59:32.651463Z"
    }
   },
   "outputs": [],
   "source": [
    "dataset = mnist.load_data('mnist.db')"
   ]
  },
  {
   "cell_type": "code",
   "execution_count": 3,
   "metadata": {
    "execution": {
     "iopub.execute_input": "2023-09-17T02:59:34.029794Z",
     "iopub.status.busy": "2023-09-17T02:59:34.029444Z",
     "iopub.status.idle": "2023-09-17T02:59:34.034384Z",
     "shell.execute_reply": "2023-09-17T02:59:34.033392Z",
     "shell.execute_reply.started": "2023-09-17T02:59:34.029763Z"
    }
   },
   "outputs": [],
   "source": [
    "train,test = dataset"
   ]
  },
  {
   "cell_type": "code",
   "execution_count": 4,
   "metadata": {
    "execution": {
     "iopub.execute_input": "2023-09-17T02:59:34.037726Z",
     "iopub.status.busy": "2023-09-17T02:59:34.037371Z",
     "iopub.status.idle": "2023-09-17T02:59:34.049275Z",
     "shell.execute_reply": "2023-09-17T02:59:34.048008Z",
     "shell.execute_reply.started": "2023-09-17T02:59:34.037695Z"
    },
    "scrolled": true
   },
   "outputs": [
    {
     "data": {
      "text/plain": [
       "2"
      ]
     },
     "execution_count": 4,
     "metadata": {},
     "output_type": "execute_result"
    }
   ],
   "source": [
    "len(train)"
   ]
  },
  {
   "cell_type": "code",
   "execution_count": 5,
   "metadata": {
    "execution": {
     "iopub.execute_input": "2023-09-17T02:59:34.051121Z",
     "iopub.status.busy": "2023-09-17T02:59:34.050712Z",
     "iopub.status.idle": "2023-09-17T02:59:34.058433Z",
     "shell.execute_reply": "2023-09-17T02:59:34.057190Z",
     "shell.execute_reply.started": "2023-09-17T02:59:34.051089Z"
    }
   },
   "outputs": [],
   "source": [
    "X_train, y_train = train"
   ]
  },
  {
   "cell_type": "code",
   "execution_count": 6,
   "metadata": {
    "execution": {
     "iopub.execute_input": "2023-09-17T02:59:34.060172Z",
     "iopub.status.busy": "2023-09-17T02:59:34.059828Z",
     "iopub.status.idle": "2023-09-17T02:59:34.070371Z",
     "shell.execute_reply": "2023-09-17T02:59:34.069318Z",
     "shell.execute_reply.started": "2023-09-17T02:59:34.060131Z"
    }
   },
   "outputs": [],
   "source": [
    "X_test, y_test = test"
   ]
  },
  {
   "cell_type": "code",
   "execution_count": 7,
   "metadata": {
    "execution": {
     "iopub.execute_input": "2023-09-17T02:59:34.072617Z",
     "iopub.status.busy": "2023-09-17T02:59:34.071815Z",
     "iopub.status.idle": "2023-09-17T02:59:34.084973Z",
     "shell.execute_reply": "2023-09-17T02:59:34.084187Z",
     "shell.execute_reply.started": "2023-09-17T02:59:34.072562Z"
    }
   },
   "outputs": [
    {
     "data": {
      "text/plain": [
       "60000"
      ]
     },
     "execution_count": 7,
     "metadata": {},
     "output_type": "execute_result"
    }
   ],
   "source": [
    "len(X_train)"
   ]
  },
  {
   "cell_type": "code",
   "execution_count": 8,
   "metadata": {
    "execution": {
     "iopub.execute_input": "2023-09-17T02:59:34.086320Z",
     "iopub.status.busy": "2023-09-17T02:59:34.086018Z",
     "iopub.status.idle": "2023-09-17T02:59:34.093908Z",
     "shell.execute_reply": "2023-09-17T02:59:34.093177Z",
     "shell.execute_reply.started": "2023-09-17T02:59:34.086277Z"
    }
   },
   "outputs": [
    {
     "data": {
      "text/plain": [
       "10000"
      ]
     },
     "execution_count": 8,
     "metadata": {},
     "output_type": "execute_result"
    }
   ],
   "source": [
    "len(X_test)"
   ]
  },
  {
   "cell_type": "code",
   "execution_count": 9,
   "metadata": {
    "execution": {
     "iopub.execute_input": "2023-09-17T02:59:34.095456Z",
     "iopub.status.busy": "2023-09-17T02:59:34.095110Z",
     "iopub.status.idle": "2023-09-17T02:59:34.105244Z",
     "shell.execute_reply": "2023-09-17T02:59:34.104099Z",
     "shell.execute_reply.started": "2023-09-17T02:59:34.095426Z"
    }
   },
   "outputs": [
    {
     "data": {
      "text/plain": [
       "(28, 28)"
      ]
     },
     "execution_count": 9,
     "metadata": {},
     "output_type": "execute_result"
    }
   ],
   "source": [
    "X_train[0].shape"
   ]
  },
  {
   "cell_type": "code",
   "execution_count": 10,
   "metadata": {
    "execution": {
     "iopub.execute_input": "2023-09-17T02:59:34.109870Z",
     "iopub.status.busy": "2023-09-17T02:59:34.109360Z",
     "iopub.status.idle": "2023-09-17T02:59:34.115181Z",
     "shell.execute_reply": "2023-09-17T02:59:34.114430Z",
     "shell.execute_reply.started": "2023-09-17T02:59:34.109840Z"
    }
   },
   "outputs": [
    {
     "data": {
      "text/plain": [
       "2"
      ]
     },
     "execution_count": 10,
     "metadata": {},
     "output_type": "execute_result"
    }
   ],
   "source": [
    "X_train[0].ndim"
   ]
  },
  {
   "cell_type": "code",
   "execution_count": 11,
   "metadata": {
    "execution": {
     "iopub.execute_input": "2023-09-17T02:59:34.117675Z",
     "iopub.status.busy": "2023-09-17T02:59:34.116660Z",
     "iopub.status.idle": "2023-09-17T02:59:34.125142Z",
     "shell.execute_reply": "2023-09-17T02:59:34.124181Z",
     "shell.execute_reply.started": "2023-09-17T02:59:34.117634Z"
    }
   },
   "outputs": [],
   "source": [
    "img = X_train[1]"
   ]
  },
  {
   "cell_type": "code",
   "execution_count": 12,
   "metadata": {
    "execution": {
     "iopub.execute_input": "2023-09-17T02:59:34.126987Z",
     "iopub.status.busy": "2023-09-17T02:59:34.126621Z",
     "iopub.status.idle": "2023-09-17T02:59:34.136612Z",
     "shell.execute_reply": "2023-09-17T02:59:34.134024Z",
     "shell.execute_reply.started": "2023-09-17T02:59:34.126958Z"
    }
   },
   "outputs": [],
   "source": [
    "X_train = X_train.reshape(-1,28*28)\n",
    "#X_train = X_train.reshape(-1, 1, 28*28)"
   ]
  },
  {
   "cell_type": "code",
   "execution_count": 13,
   "metadata": {
    "execution": {
     "iopub.execute_input": "2023-09-17T02:59:34.138623Z",
     "iopub.status.busy": "2023-09-17T02:59:34.138244Z",
     "iopub.status.idle": "2023-09-17T02:59:34.147157Z",
     "shell.execute_reply": "2023-09-17T02:59:34.146386Z",
     "shell.execute_reply.started": "2023-09-17T02:59:34.138592Z"
    }
   },
   "outputs": [
    {
     "data": {
      "text/plain": [
       "(60000, 784)"
      ]
     },
     "execution_count": 13,
     "metadata": {},
     "output_type": "execute_result"
    }
   ],
   "source": [
    "X_train.shape"
   ]
  },
  {
   "cell_type": "code",
   "execution_count": 14,
   "metadata": {
    "execution": {
     "iopub.execute_input": "2023-09-17T02:59:34.149385Z",
     "iopub.status.busy": "2023-09-17T02:59:34.148661Z",
     "iopub.status.idle": "2023-09-17T02:59:34.157458Z",
     "shell.execute_reply": "2023-09-17T02:59:34.156463Z",
     "shell.execute_reply.started": "2023-09-17T02:59:34.149352Z"
    }
   },
   "outputs": [],
   "source": [
    "X_test = X_test.reshape(-1, 28*28)"
   ]
  },
  {
   "cell_type": "code",
   "execution_count": 15,
   "metadata": {
    "execution": {
     "iopub.execute_input": "2023-09-17T02:59:34.159044Z",
     "iopub.status.busy": "2023-09-17T02:59:34.158667Z",
     "iopub.status.idle": "2023-09-17T02:59:34.170820Z",
     "shell.execute_reply": "2023-09-17T02:59:34.169729Z",
     "shell.execute_reply.started": "2023-09-17T02:59:34.159017Z"
    }
   },
   "outputs": [
    {
     "data": {
      "text/plain": [
       "(10000, 784)"
      ]
     },
     "execution_count": 15,
     "metadata": {},
     "output_type": "execute_result"
    }
   ],
   "source": [
    "X_test.shape"
   ]
  },
  {
   "cell_type": "code",
   "execution_count": 16,
   "metadata": {
    "execution": {
     "iopub.execute_input": "2023-09-17T02:59:34.173536Z",
     "iopub.status.busy": "2023-09-17T02:59:34.172499Z",
     "iopub.status.idle": "2023-09-17T02:59:34.180913Z",
     "shell.execute_reply": "2023-09-17T02:59:34.179999Z",
     "shell.execute_reply.started": "2023-09-17T02:59:34.173493Z"
    }
   },
   "outputs": [
    {
     "data": {
      "text/plain": [
       "array([5, 0, 4, ..., 5, 6, 8], dtype=uint8)"
      ]
     },
     "execution_count": 16,
     "metadata": {},
     "output_type": "execute_result"
    }
   ],
   "source": [
    "y_train"
   ]
  },
  {
   "cell_type": "code",
   "execution_count": 17,
   "metadata": {
    "execution": {
     "iopub.execute_input": "2023-09-17T02:59:34.183554Z",
     "iopub.status.busy": "2023-09-17T02:59:34.182495Z",
     "iopub.status.idle": "2023-09-17T02:59:34.194268Z",
     "shell.execute_reply": "2023-09-17T02:59:34.193297Z",
     "shell.execute_reply.started": "2023-09-17T02:59:34.183523Z"
    }
   },
   "outputs": [],
   "source": [
    "y_train = to_categorical(y_train)\n"
   ]
  },
  {
   "cell_type": "code",
   "execution_count": 18,
   "metadata": {
    "execution": {
     "iopub.execute_input": "2023-09-17T02:59:34.198582Z",
     "iopub.status.busy": "2023-09-17T02:59:34.195390Z",
     "iopub.status.idle": "2023-09-17T02:59:34.205168Z",
     "shell.execute_reply": "2023-09-17T02:59:34.204361Z",
     "shell.execute_reply.started": "2023-09-17T02:59:34.198547Z"
    }
   },
   "outputs": [
    {
     "data": {
      "text/plain": [
       "array([[0., 0., 0., ..., 0., 0., 0.],\n",
       "       [1., 0., 0., ..., 0., 0., 0.],\n",
       "       [0., 0., 0., ..., 0., 0., 0.],\n",
       "       ...,\n",
       "       [0., 0., 0., ..., 0., 0., 0.],\n",
       "       [0., 0., 0., ..., 0., 0., 0.],\n",
       "       [0., 0., 0., ..., 0., 1., 0.]], dtype=float32)"
      ]
     },
     "execution_count": 18,
     "metadata": {},
     "output_type": "execute_result"
    }
   ],
   "source": [
    "y_train"
   ]
  },
  {
   "cell_type": "code",
   "execution_count": 19,
   "metadata": {
    "execution": {
     "iopub.execute_input": "2023-09-17T02:59:34.207556Z",
     "iopub.status.busy": "2023-09-17T02:59:34.206873Z",
     "iopub.status.idle": "2023-09-17T02:59:34.309472Z",
     "shell.execute_reply": "2023-09-17T02:59:34.308284Z",
     "shell.execute_reply.started": "2023-09-17T02:59:34.207526Z"
    }
   },
   "outputs": [],
   "source": [
    "model=Sequential()"
   ]
  },
  {
   "cell_type": "code",
   "execution_count": 20,
   "metadata": {
    "execution": {
     "iopub.execute_input": "2023-09-17T02:59:34.311112Z",
     "iopub.status.busy": "2023-09-17T02:59:34.310771Z",
     "iopub.status.idle": "2023-09-17T02:59:34.444663Z",
     "shell.execute_reply": "2023-09-17T02:59:34.443505Z",
     "shell.execute_reply.started": "2023-09-17T02:59:34.311082Z"
    }
   },
   "outputs": [],
   "source": [
    "model.add( \n",
    "    Dense(units = 512 , input_shape = (784,) , activation = 'relu' )\n",
    ")\n",
    "model.add( \n",
    "    Dense(units = 256 , activation = 'relu' )\n",
    ")\n",
    "model.add( \n",
    "    Dense(units = 128 , activation = 'relu' )\n",
    ")\n",
    "model.add( \n",
    "    Dense(units = 64 , activation = 'relu')\n",
    ")\n",
    "model.add( \n",
    "    Dense(units = 10 , activation =  'softmax')\n",
    ")"
   ]
  },
  {
   "cell_type": "code",
   "execution_count": 21,
   "metadata": {
    "execution": {
     "iopub.execute_input": "2023-09-17T02:59:34.446548Z",
     "iopub.status.busy": "2023-09-17T02:59:34.446182Z",
     "iopub.status.idle": "2023-09-17T02:59:34.469936Z",
     "shell.execute_reply": "2023-09-17T02:59:34.468867Z",
     "shell.execute_reply.started": "2023-09-17T02:59:34.446516Z"
    }
   },
   "outputs": [
    {
     "name": "stdout",
     "output_type": "stream",
     "text": [
      "Model: \"sequential\"\n",
      "_________________________________________________________________\n",
      " Layer (type)                Output Shape              Param #   \n",
      "=================================================================\n",
      " dense (Dense)               (None, 512)               401920    \n",
      "                                                                 \n",
      " dense_1 (Dense)             (None, 256)               131328    \n",
      "                                                                 \n",
      " dense_2 (Dense)             (None, 128)               32896     \n",
      "                                                                 \n",
      " dense_3 (Dense)             (None, 64)                8256      \n",
      "                                                                 \n",
      " dense_4 (Dense)             (None, 10)                650       \n",
      "                                                                 \n",
      "=================================================================\n",
      "Total params: 575050 (2.19 MB)\n",
      "Trainable params: 575050 (2.19 MB)\n",
      "Non-trainable params: 0 (0.00 Byte)\n",
      "_________________________________________________________________\n"
     ]
    }
   ],
   "source": [
    "model.summary()"
   ]
  },
  {
   "cell_type": "code",
   "execution_count": 22,
   "metadata": {
    "execution": {
     "iopub.execute_input": "2023-09-17T02:59:34.472188Z",
     "iopub.status.busy": "2023-09-17T02:59:34.471680Z",
     "iopub.status.idle": "2023-09-17T02:59:34.497581Z",
     "shell.execute_reply": "2023-09-17T02:59:34.496543Z",
     "shell.execute_reply.started": "2023-09-17T02:59:34.472148Z"
    }
   },
   "outputs": [],
   "source": [
    "model.compile(\n",
    "    optimizer='adam',\n",
    "    \n",
    "    loss='categorical_crossentropy',\n",
    "    \n",
    "    metrics=['accuracy']\n",
    ")"
   ]
  },
  {
   "cell_type": "code",
   "execution_count": 23,
   "metadata": {
    "execution": {
     "iopub.execute_input": "2023-09-17T02:59:34.499320Z",
     "iopub.status.busy": "2023-09-17T02:59:34.498965Z",
     "iopub.status.idle": "2023-09-17T03:01:34.161151Z",
     "shell.execute_reply": "2023-09-17T03:01:34.160092Z",
     "shell.execute_reply.started": "2023-09-17T02:59:34.499272Z"
    }
   },
   "outputs": [
    {
     "name": "stdout",
     "output_type": "stream",
     "text": [
      "Epoch 1/10\n",
      "1500/1500 [==============================] - 11s 7ms/step - loss: 0.7356 - accuracy: 0.8931 - val_loss: 0.2116 - val_accuracy: 0.9416\n",
      "Epoch 2/10\n",
      "1500/1500 [==============================] - 10s 7ms/step - loss: 0.1850 - accuracy: 0.9497 - val_loss: 0.2028 - val_accuracy: 0.9448\n",
      "Epoch 3/10\n",
      "1500/1500 [==============================] - 10s 7ms/step - loss: 0.1508 - accuracy: 0.9577 - val_loss: 0.2331 - val_accuracy: 0.9403\n",
      "Epoch 4/10\n",
      "1500/1500 [==============================] - 10s 7ms/step - loss: 0.1313 - accuracy: 0.9642 - val_loss: 0.1444 - val_accuracy: 0.9600\n",
      "Epoch 5/10\n",
      "1500/1500 [==============================] - 10s 7ms/step - loss: 0.1110 - accuracy: 0.9688 - val_loss: 0.1411 - val_accuracy: 0.9616\n",
      "Epoch 6/10\n",
      "1500/1500 [==============================] - 10s 7ms/step - loss: 0.0959 - accuracy: 0.9737 - val_loss: 0.1225 - val_accuracy: 0.9667\n",
      "Epoch 7/10\n",
      "1500/1500 [==============================] - 10s 7ms/step - loss: 0.0878 - accuracy: 0.9762 - val_loss: 0.1278 - val_accuracy: 0.9706\n",
      "Epoch 8/10\n",
      "1500/1500 [==============================] - 10s 6ms/step - loss: 0.0696 - accuracy: 0.9812 - val_loss: 0.1320 - val_accuracy: 0.9694\n",
      "Epoch 9/10\n",
      "1500/1500 [==============================] - 10s 7ms/step - loss: 0.0694 - accuracy: 0.9812 - val_loss: 0.1344 - val_accuracy: 0.9709\n",
      "Epoch 10/10\n",
      "1500/1500 [==============================] - 10s 7ms/step - loss: 0.0572 - accuracy: 0.9841 - val_loss: 0.1450 - val_accuracy: 0.9712\n"
     ]
    }
   ],
   "source": [
    "# Train the model\n",
    "history = model.fit(X_train, y_train, epochs=10, validation_split=0.2)"
   ]
  },
  {
   "cell_type": "code",
   "execution_count": 24,
   "metadata": {
    "execution": {
     "iopub.execute_input": "2023-09-17T03:01:34.163260Z",
     "iopub.status.busy": "2023-09-17T03:01:34.162825Z",
     "iopub.status.idle": "2023-09-17T03:01:35.659231Z",
     "shell.execute_reply": "2023-09-17T03:01:35.658046Z",
     "shell.execute_reply.started": "2023-09-17T03:01:34.163224Z"
    }
   },
   "outputs": [
    {
     "name": "stdout",
     "output_type": "stream",
     "text": [
      "313/313 [==============================] - 1s 2ms/step - loss: 0.1358 - accuracy: 0.9705\n",
      "Test Accuracy: 97.05%\n"
     ]
    }
   ],
   "source": [
    "# Evaluate the model on the test set\n",
    "test_loss, test_accuracy = model.evaluate(X_test, to_categorical(y_test))\n",
    "print(f\"Test Accuracy: {test_accuracy * 100:.2f}%\")"
   ]
  },
  {
   "cell_type": "code",
   "execution_count": 25,
   "metadata": {
    "execution": {
     "iopub.execute_input": "2023-09-17T03:01:35.661091Z",
     "iopub.status.busy": "2023-09-17T03:01:35.660743Z",
     "iopub.status.idle": "2023-09-17T03:01:36.187823Z",
     "shell.execute_reply": "2023-09-17T03:01:36.186771Z",
     "shell.execute_reply.started": "2023-09-17T03:01:35.661055Z"
    }
   },
   "outputs": [
    {
     "data": {
      "image/png": "[encoded data removed]",
      "text/plain": [
       "<Figure size 1200x400 with 2 Axes>"
      ]
     },
     "metadata": {},
     "output_type": "display_data"
    }
   ],
   "source": [
    "\n",
    "# Plot training history (loss and accuracy)\n",
    "plt.figure(figsize=(12, 4))\n",
    "plt.subplot(1, 2, 1)\n",
    "plt.plot(history.history['loss'], label='Training Loss')\n",
    "plt.plot(history.history['val_loss'], label='Validation Loss')\n",
    "plt.xlabel('Epoch')\n",
    "plt.ylabel('Loss')\n",
    "plt.legend()\n",
    "plt.title('Training and Validation Loss')\n",
    "\n",
    "plt.subplot(1, 2, 2)\n",
    "plt.plot(history.history['accuracy'], label='Training Accuracy')\n",
    "plt.plot(history.history['val_accuracy'], label='Validation Accuracy')\n",
    "plt.xlabel('Epoch')\n",
    "plt.ylabel('Accuracy')\n",
    "plt.legend()\n",
    "plt.title('Training and Validation Accuracy')\n",
    "\n",
    "plt.show()\n"
   ]
  },
  {
   "cell_type": "code",
   "execution_count": 26,
   "metadata": {
    "execution": {
     "iopub.execute_input": "2023-09-17T03:01:36.189785Z",
     "iopub.status.busy": "2023-09-17T03:01:36.189433Z",
     "iopub.status.idle": "2023-09-17T03:01:36.194983Z",
     "shell.execute_reply": "2023-09-17T03:01:36.193880Z",
     "shell.execute_reply.started": "2023-09-17T03:01:36.189755Z"
    }
   },
   "outputs": [],
   "source": [
    "# Predict with the Model:\n",
    "# Select multiple sample images from the test set (e.g., the first 10 images)\n",
    "sample_images = X_test\n"
   ]
  },
  {
   "cell_type": "code",
   "execution_count": 27,
   "metadata": {
    "execution": {
     "iopub.execute_input": "2023-09-17T03:01:36.197035Z",
     "iopub.status.busy": "2023-09-17T03:01:36.196604Z",
     "iopub.status.idle": "2023-09-17T03:01:37.254438Z",
     "shell.execute_reply": "2023-09-17T03:01:37.252805Z",
     "shell.execute_reply.started": "2023-09-17T03:01:36.196993Z"
    }
   },
   "outputs": [
    {
     "name": "stdout",
     "output_type": "stream",
     "text": [
      "313/313 [==============================] - 1s 2ms/step\n"
     ]
    }
   ],
   "source": [
    "# Use the trained model to make predictions on the selected images\n",
    "predictions = model.predict(sample_images)"
   ]
  },
  {
   "cell_type": "code",
   "execution_count": 28,
   "metadata": {
    "execution": {
     "iopub.execute_input": "2023-09-17T03:01:37.260357Z",
     "iopub.status.busy": "2023-09-17T03:01:37.259945Z",
     "iopub.status.idle": "2023-09-17T03:01:37.266740Z",
     "shell.execute_reply": "2023-09-17T03:01:37.265483Z",
     "shell.execute_reply.started": "2023-09-17T03:01:37.260291Z"
    }
   },
   "outputs": [
    {
     "name": "stdout",
     "output_type": "stream",
     "text": [
      "[[2.4266282e-18 1.1003781e-09 1.0253864e-07 ... 9.9996096e-01\n",
      "  1.3274960e-10 3.8810962e-05]\n",
      " [4.5908846e-11 9.8897113e-10 9.9999994e-01 ... 1.5603567e-10\n",
      "  1.2436201e-12 5.5139453e-20]\n",
      " [5.6505934e-25 9.9999994e-01 7.2905596e-14 ... 7.1399650e-11\n",
      "  5.5213480e-11 1.7755827e-12]\n",
      " ...\n",
      " [8.5875453e-15 3.9195182e-16 3.7125490e-11 ... 2.1528382e-15\n",
      "  2.3558910e-11 3.1828524e-05]\n",
      " [3.9371199e-29 7.3392504e-22 5.2636875e-29 ... 7.5792229e-28\n",
      "  2.1197635e-15 1.6700468e-15]\n",
      " [1.4849806e-09 1.4801699e-10 8.4905506e-11 ... 1.5663194e-14\n",
      "  8.1428331e-09 3.6983936e-12]]\n"
     ]
    }
   ],
   "source": [
    "# Print the predictions\n",
    "print(predictions)"
   ]
  },
  {
   "cell_type": "code",
   "execution_count": 29,
   "metadata": {
    "execution": {
     "iopub.execute_input": "2023-09-17T03:01:37.268485Z",
     "iopub.status.busy": "2023-09-17T03:01:37.268087Z",
     "iopub.status.idle": "2023-09-17T03:01:37.278106Z",
     "shell.execute_reply": "2023-09-17T03:01:37.276941Z",
     "shell.execute_reply.started": "2023-09-17T03:01:37.268455Z"
    }
   },
   "outputs": [],
   "source": [
    "# Convert predictions to class labels\n",
    "predicted_labels = np.argmax(predictions, axis=1)\n",
    "\n"
   ]
  },
  {
   "cell_type": "code",
   "execution_count": 30,
   "metadata": {
    "execution": {
     "iopub.execute_input": "2023-09-17T03:01:37.279832Z",
     "iopub.status.busy": "2023-09-17T03:01:37.279493Z",
     "iopub.status.idle": "2023-09-17T03:01:37.291670Z",
     "shell.execute_reply": "2023-09-17T03:01:37.290328Z",
     "shell.execute_reply.started": "2023-09-17T03:01:37.279802Z"
    }
   },
   "outputs": [
    {
     "name": "stdout",
     "output_type": "stream",
     "text": [
      "Predicted Labels: [7 2 1 ... 4 5 6]\n"
     ]
    }
   ],
   "source": [
    "# Print the predicted labels\n",
    "print(\"Predicted Labels:\", predicted_labels)\n",
    "\n"
   ]
  },
  {
   "cell_type": "code",
   "execution_count": 31,
   "metadata": {
    "execution": {
     "iopub.execute_input": "2023-09-17T03:01:37.293851Z",
     "iopub.status.busy": "2023-09-17T03:01:37.293449Z",
     "iopub.status.idle": "2023-09-17T03:01:38.669968Z",
     "shell.execute_reply": "2023-09-17T03:01:38.669169Z",
     "shell.execute_reply.started": "2023-09-17T03:01:37.293819Z"
    }
   },
   "outputs": [
    {
     "name": "stdout",
     "output_type": "stream",
     "text": [
      "313/313 [==============================] - 1s 2ms/step\n",
      "Confusion Matrix:\n",
      " [[ 961    2    2    1    0    1    2    3    5    3]\n",
      " [   0 1124    2    3    1    1    1    0    3    0]\n",
      " [   5    1 1000   10    1    0    1    3   11    0]\n",
      " [   0    0    6  980    0    2    0    5    6   11]\n",
      " [   3    1    2    0  961    1    1    2    1   10]\n",
      " [   4    1    0    7    1  852    4    1    7   15]\n",
      " [   7    3    2    1   10    4  919    0   12    0]\n",
      " [   1    8   20    1    0    0    0  988    4    6]\n",
      " [   0    1    5    7    1    3    1    1  949    6]\n",
      " [   4    3    0    3    9    1    0    5   13  971]]\n",
      "Classification Report:\n",
      "               precision    recall  f1-score   support\n",
      "\n",
      "           0       0.98      0.98      0.98       980\n",
      "           1       0.98      0.99      0.99      1135\n",
      "           2       0.96      0.97      0.97      1032\n",
      "           3       0.97      0.97      0.97      1010\n",
      "           4       0.98      0.98      0.98       982\n",
      "           5       0.98      0.96      0.97       892\n",
      "           6       0.99      0.96      0.97       958\n",
      "           7       0.98      0.96      0.97      1028\n",
      "           8       0.94      0.97      0.96       974\n",
      "           9       0.95      0.96      0.96      1009\n",
      "\n",
      "    accuracy                           0.97     10000\n",
      "   macro avg       0.97      0.97      0.97     10000\n",
      "weighted avg       0.97      0.97      0.97     10000\n",
      "\n"
     ]
    }
   ],
   "source": [
    "# Generate a confusion matrix and classification report\n",
    "y_true = y_test\n",
    "y_pred = model.predict(X_test)\n",
    "y_pred_labels = np.argmax(y_pred, axis=1)\n",
    "confusion = confusion_matrix(y_true, y_pred_labels)\n",
    "classification_report_str = classification_report(y_true, y_pred_labels)\n",
    "\n",
    "print(\"Confusion Matrix:\\n\", confusion)\n",
    "print(\"Classification Report:\\n\", classification_report_str)"
   ]
  },
  {
   "cell_type": "code",
   "execution_count": 33,
   "metadata": {
    "execution": {
     "iopub.execute_input": "2023-09-17T03:01:38.672176Z",
     "iopub.status.busy": "2023-09-17T03:01:38.671073Z",
     "iopub.status.idle": "2023-09-17T03:01:40.967139Z",
     "shell.execute_reply": "2023-09-17T03:01:40.965865Z",
     "shell.execute_reply.started": "2023-09-17T03:01:38.672133Z"
    },
    "scrolled": true
   },
   "outputs": [
    {
     "name": "stdout",
     "output_type": "stream",
     "text": [
      "313/313 [==============================] - 1s 2ms/step\n"
     ]
    },
    {
     "data": {
      "image/png": "[encoded data removed]",
      "text/plain": [
       "<Figure size 1200x600 with 15 Axes>"
      ]
     },
     "metadata": {},
     "output_type": "display_data"
    }
   ],
   "source": [
    "\n",
    "# Use the trained model to make predictions on the test set\n",
    "predictions = model.predict(X_test)\n",
    "\n",
    "# Convert predictions to class labels\n",
    "predicted_labels = np.argmax(predictions, axis=1)\n",
    "\n",
    "# Select some random test samples (e.g., the first 15)\n",
    "num_samples_to_display = 15\n",
    "sample_indices = np.random.choice(len(X_test), num_samples_to_display, replace=False)\n",
    "\n",
    "# Create a figure to display the comparison\n",
    "plt.figure(figsize=(12, 6))\n",
    "\n",
    "for i, sample_index in enumerate(sample_indices):\n",
    "    plt.subplot(3, 5, i + 1)\n",
    "    plt.imshow(X_test[sample_index].reshape(28, 28), cmap='gray')\n",
    "    plt.title(f\"Actual: {y_test[sample_index]}\\nPredicted: {predicted_labels[sample_index]}\")\n",
    "    plt.axis('off')\n",
    "\n",
    "plt.tight_layout()\n",
    "plt.show()\n",
    "\n"
   ]
  },
  {
   "cell_type": "code",
   "execution_count": null,
   "metadata": {},
   "outputs": [],
   "source": []
  },
  {
   "cell_type": "code",
   "execution_count": null,
   "metadata": {},
   "outputs": [],
   "source": []
  }
 ],
 "metadata": {
  "kernelspec": {
   "display_name": "Python 3 (ipykernel)",
   "language": "python",
   "name": "python3"
  },
  "language_info": {
   "codemirror_mode": {
    "name": "ipython",
    "version": 3
   },
   "file_extension": ".py",
   "mimetype": "text/x-python",
   "name": "python",
   "nbconvert_exporter": "python",
   "pygments_lexer": "ipython3",
   "version": "3.8.10"
  }
 },
 "nbformat": 4,
 "nbformat_minor": 4
}
